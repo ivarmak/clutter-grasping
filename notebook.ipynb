{
 "cells": [
  {
   "cell_type": "code",
   "execution_count": null,
   "metadata": {},
   "outputs": [],
   "source": [
    "from grasp_generator import GraspGenerator\n",
    "from environment.utilities import Camera\n",
    "from environment.env import Environment\n",
    "from utils import YcbObjects, PackPileData, IsolatedObjData, summarize\n",
    "import numpy as np\n",
    "import pybullet as p\n",
    "import argparse\n",
    "import os\n",
    "import sys\n",
    "import cv2\n",
    "import math\n",
    "import matplotlib.pyplot as plt\n",
    "import time\n",
    "import skimage.io\n",
    "\n",
    "from mrcnn import utils\n",
    "import mrcnn.model as modellib\n",
    "from mrcnn import visualize\n",
    "from mrcnn.coco import coco\n",
    "\n",
    "# Root directory of the project\n",
    "ROOT_DIR = os.path.abspath('/home/ivar/Documents/Thesis/clutterbot/')"
   ]
  },
  {
   "cell_type": "code",
   "execution_count": null,
   "metadata": {},
   "outputs": [],
   "source": [
    "def make_mask(vis):\n",
    "    CAM_Z = 1.9\n",
    "    IMG_SIZE = 224\n",
    "\n",
    "    objects = YcbObjects('objects/ycb_objects',\n",
    "                        mod_orn=['ChipsCan', 'MustardBottle', 'TomatoSoupCan'],\n",
    "                        mod_stiffness=['Strawberry'])\n",
    "    \n",
    "    cracker_path = 'objects/ycb_objects/YcbCrackerBox/model.urdf'\n",
    "    hammer_path = 'objects/ycb_objects/YcbHammer/model.urdf'\n",
    "    banana_path = 'objects/ycb_objects/YcbBanana/model.urdf'\n",
    "\n",
    "    ## camera settings: cam_pos, cam_target, near, far, size, fov\n",
    "    center_x, center_y, center_z = 0.05, -0.52, CAM_Z\n",
    "    camera = Camera((center_x, center_y, center_z), (center_x, center_y, 0.785), 0.2, 2.0, (IMG_SIZE, IMG_SIZE), 40)\n",
    "    env = Environment(camera, vis=vis, finger_length=0.06)\n",
    "\n",
    "    env.reset_robot()          \n",
    "    env.remove_all_obj()                        \n",
    "    \n",
    "    env.load_isolated_obj(banana_path)\n",
    "\n",
    "    # number_of_objects = 5\n",
    "    # objects.shuffle_objects()\n",
    "    # info = objects.get_n_first_obj_info(number_of_objects)\n",
    "    # env.create_pile(info)\n",
    "\n",
    "    # segmentation mask of the image where pixels each contain unique integers with object IDs\n",
    "    # yields integer values: upper rectangle of 1, lower of 4\n",
    "    # with mask as 6 (in the case of single object!!)\n",
    "    _, _, seg = camera.get_cam_img()\n",
    "\n",
    "    ## convert to numpy and binarize (i.e. filter for 6, since value for single mask)\n",
    "    numpy_mask = (np.array(seg) == 6).astype(int)\n",
    "\n",
    "    ## convert back to matrix\n",
    "    mask = np.asmatrix(numpy_mask)\n",
    "\n",
    "    plt.imshow(mask, interpolation='nearest')\n",
    "    plt.show()\n",
    "    # skimage.io.imshow(np.asmatrix(seg))\n"
   ]
  },
  {
   "cell_type": "code",
   "execution_count": null,
   "metadata": {},
   "outputs": [],
   "source": [
    "def look_at_banana(vis):\n",
    "    CAM_Z = 1.9\n",
    "    IMG_SIZE = 224\n",
    "\n",
    "    def setup_mrcnn():\n",
    "        # Directory to save logs and trained model\n",
    "        MODEL_DIR = os.path.join(ROOT_DIR, 'logs')\n",
    "        # Local path to your trained weights file\n",
    "        COCO_MODEL_PATH = os.path.join(ROOT_DIR, 'mrcnn/weights/mask_rcnn_coco.h5')\n",
    "\n",
    "        class InferenceConfig(coco.CocoConfig):\n",
    "            GPU_COUNT = 1\n",
    "            IMAGES_PER_GPU = 1\n",
    "            \n",
    "        config = InferenceConfig()\n",
    "\n",
    "        class_names = ['BG', 'person', 'bicycle', 'car', 'motorcycle', 'airplane',\n",
    "                    'bus', 'train', 'truck', 'boat', 'traffic light',\n",
    "                    'fire hydrant', 'stop sign', 'parking meter', 'bench', 'bird',\n",
    "                    'cat', 'dog', 'horse', 'sheep', 'cow', 'elephant', 'bear',\n",
    "                    'zebra', 'giraffe', 'backpack', 'umbrella', 'handbag', 'tie',\n",
    "                    'suitcase', 'frisbee', 'skis', 'snowboard', 'sports ball',\n",
    "                    'kite', 'baseball bat', 'baseball glove', 'skateboard',\n",
    "                    'surfboard', 'tennis racket', 'bottle', 'wine glass', 'cup',\n",
    "                    'fork', 'knife', 'spoon', 'bowl', 'banana', 'apple',\n",
    "                    'sandwich', 'orange', 'broccoli', 'carrot', 'hot dog', 'pizza',\n",
    "                    'donut', 'cake', 'chair', 'couch', 'potted plant', 'bed',\n",
    "                    'dining table', 'toilet', 'tv', 'laptop', 'mouse', 'remote',\n",
    "                    'keyboard', 'cell phone', 'microwave', 'oven', 'toaster',\n",
    "                    'sink', 'refrigerator', 'book', 'clock', 'vase', 'scissors',\n",
    "                    'teddy bear', 'hair drier', 'toothbrush']\n",
    "\n",
    "        # Create model object in inference mode.\n",
    "        model = modellib.MaskRCNN(mode=\"inference\", model_dir=MODEL_DIR, config=config)\n",
    "\n",
    "        # Load weights trained on the COCO dataset \n",
    "        model.load_weights(COCO_MODEL_PATH, by_name=True)\n",
    "\n",
    "        return model, class_names\n",
    "\n",
    "    model, class_names = setup_mrcnn()\n",
    "\n",
    "    def evaluate():\n",
    "        start = time.time()\n",
    "\n",
    "        results = model.detect([rgb], verbose=1)\n",
    "        r = results[0]\n",
    "        box, mask, classID, score = r['rois'], r['masks'], r['class_ids'], r['scores']                      \n",
    "\n",
    "        end = time.time()\n",
    "        print('MRCNN EXECUTION TIME: ', end - start)\n",
    "\n",
    "        return box, mask, classID, score\n",
    "\n",
    "    objects = YcbObjects('objects/ycb_objects',\n",
    "                        mod_orn=['ChipsCan', 'MustardBottle', 'TomatoSoupCan'],\n",
    "                        mod_stiffness=['Strawberry'])\n",
    "    \n",
    "    banana_path = 'objects/ycb_objects/YcbBanana/model.urdf'\n",
    "\n",
    "    ## camera settings: cam_pos, cam_target, near, far, size, fov\n",
    "    center_x, center_y, center_z = 0.05, -0.52, CAM_Z\n",
    "    # camera = Camera((center_x, center_y, center_z), (center_x, center_y, 0.785), 0.2, 2.0, (self.IMG_SIZE, self.IMG_SIZE), 40)\n",
    "    \n",
    "    MRCNN_IMG_SIZE = 1024\n",
    "    camera = Camera((center_x, center_y, center_z), (center_x, center_y, 0.785), 0.2, 2.0, (MRCNN_IMG_SIZE, MRCNN_IMG_SIZE), 40)\n",
    "    env = Environment(camera, vis=vis, finger_length=0.06)\n",
    "\n",
    "    env.reset_robot()          \n",
    "    env.remove_all_obj()                        \n",
    "    \n",
    "    # load banana into environment\n",
    "    env.load_isolated_obj(banana_path)\n",
    "\n",
    "    number_of_objects = 5\n",
    "    # objects.shuffle_objects()\n",
    "    # info = objects.get_n_first_obj_info(number_of_objects)\n",
    "    # env.create_pile(info)\n",
    "\n",
    "    rgb, _, _ = camera.get_cam_img()\n",
    "\n",
    "    \n",
    "    # for i in range(7):\n",
    "    #     start = time.time()\n",
    "    #     # path = 'trained_models/Mask_RCNN/images/' + str(i) + '.jpg'\n",
    "    #     path = 'images/' + str(i) + '.jpg'\n",
    "    #     print(path)\n",
    "    #     rgb = skimage.io.imread(path)\n",
    "    #     results = model.detect([rgb], verbose=1)\n",
    "    #     r = results[0]\n",
    "    #     box, mask, classID, score = r['rois'], r['masks'], r['class_ids'], r['scores']\n",
    "\n",
    "    #     end = time.time()\n",
    "    #     print('MRCNN EXECUTION TIME: ', end - start)\n",
    "\n",
    "    #     visualize.display_instances(rgb, box, mask, classID, class_names, score)\n",
    "\n",
    "    bananaFound = False\n",
    "    nfNumber = 1\n",
    "\n",
    "    box, mask, classID, score = evaluate()\n",
    "\n",
    "    while(not bananaFound):\n",
    "        if (47 in classID):\n",
    "            print('BANANA FOUND')\n",
    "            bananaFound = True\n",
    "\n",
    "            result = np.where(classID == 47)\n",
    "            index = result[0][0]\n",
    "            print('index: ', index)\n",
    "            # terminaloutput>> index:  (array([3]),)\n",
    "            # pak eerste output: result = np.where(classID == 47) \\ index = result[0][0]\n",
    "            # https://thispointer.com/find-the-index-of-a-value-in-numpy-array/\n",
    "        else:\n",
    "            print('NOT FOUND, starting again')\n",
    "\n",
    "            # visualize.display_instances(rgb, box, mask, classID, class_names, score, title='notfound ' + str(nfNumber))\n",
    "            \n",
    "            nfNumber += 1\n",
    "\n",
    "            env.reset_robot()          \n",
    "            env.remove_all_obj()\n",
    "            objects.shuffle_objects()\n",
    "            info = objects.get_n_first_obj_info(number_of_objects)\n",
    "            env.create_pile(info)\n",
    "\n",
    "            rgb, _, _ = camera.get_cam_img()\n",
    "\n",
    "            box, mask, classID, score = evaluate()\n",
    "    \n",
    "    print('NOT FOUND #', nfNumber)\n",
    "    visualize.display_instances(rgb, box, mask, classID, class_names, score)\n"
   ]
  },
  {
   "cell_type": "code",
   "execution_count": null,
   "metadata": {},
   "outputs": [],
   "source": [
    "def make_data():\n",
    "    ## Call json.dumps(obj) with obj as the list to serialize the list to a JSON formatted string.\n",
    "    \n",
    "    # print(arr)\n",
    "    \n",
    "    # # Output\n",
    "    # # [[1 2]\n",
    "    # # [3 4]]\n",
    "\n",
    "    # lists = arr.tolist()\n",
    "    # json_str = json.dumps(lists)\n",
    "    # print(json_str)\n",
    "\n",
    "    # # Output\n",
    "    # # [[1, 2], [3, 4]]\n",
    "    pass\n"
   ]
  },
  {
   "cell_type": "code",
   "execution_count": 1,
   "metadata": {},
   "outputs": [],
   "source": [
    "import json\n",
    "\n",
    "dataset_dir = 'data/trial'\n",
    "\n",
    "json_file = 'trial.json'\n",
    "annotations1 = json.load(open(os.path.join(dataset_dir, json_file)))\n"
   ]
  },
  {
   "cell_type": "code",
   "execution_count": 10,
   "metadata": {},
   "outputs": [
    {
     "name": "stdout",
     "output_type": "stream",
     "text": [
      "[{'path': 'sample1.jpg', 'width': 224, 'height': 224}, {'path': 'sample2.jpg', 'width': 224, 'height': 224}]\n"
     ]
    }
   ],
   "source": [
    "annotations = list(annotations1.values())\n",
    "print(annotations)"
   ]
  },
  {
   "cell_type": "code",
   "execution_count": 28,
   "metadata": {},
   "outputs": [],
   "source": [
    "import numpy as np\n",
    "\n",
    "zeros = np.zeros((5,5), int)\n",
    "\n",
    "mask = zeros\n",
    "mask[1][2] = 1\n",
    "mask[2][2] = 1\n",
    "mask[3][2] = 1\n"
   ]
  },
  {
   "cell_type": "code",
   "execution_count": 35,
   "metadata": {},
   "outputs": [
    {
     "name": "stdout",
     "output_type": "stream",
     "text": [
      "[[0 0 0 0 0]\n",
      " [0 0 1 0 0]\n",
      " [0 0 1 0 0]\n",
      " [0 0 1 0 0]\n",
      " [0 0 0 0 0]]\n",
      "[[0, 0, 0, 0, 0], [0, 0, 1, 0, 0], [0, 0, 1, 0, 0], [0, 0, 1, 0, 0], [0, 0, 0, 0, 0]]\n"
     ]
    }
   ],
   "source": [
    "print(mask)\n",
    "mask_lists = mask.tolist()\n",
    "js_str = json.dumps(mask_lists)\n",
    "\n",
    "\n",
    "print(js_str)"
   ]
  },
  {
   "cell_type": "code",
   "execution_count": 62,
   "metadata": {},
   "outputs": [
    {
     "name": "stdout",
     "output_type": "stream",
     "text": [
      "{0: {'path': 'path0.jpg', 'id': 0, 'mask': [[0, 0, 0, 0, 0], [0, 0, 1, 0, 0], [0, 0, 1, 0, 0], [0, 0, 1, 0, 0], [0, 0, 0, 0, 0]]}, 1: {'path': 'path1.jpg', 'id': 1, 'mask': [[0, 0, 0, 0, 0], [0, 0, 1, 0, 0], [0, 0, 1, 0, 0], [0, 0, 1, 0, 0], [0, 0, 0, 0, 0]]}}\n"
     ]
    }
   ],
   "source": [
    "dict = {}\n",
    "\n",
    "for it in range(2):\n",
    "    path = \"path\" + str(it) + \".jpg\"\n",
    "    id = it\n",
    "    mask_lists = mask_lists\n",
    "\n",
    "    inst1 = {\n",
    "        \"path\": path,\n",
    "        \"id\": id,\n",
    "        \"mask\": mask_lists\n",
    "    }\n",
    "\n",
    "    dict[it] = inst1\n",
    "\n",
    "print(dict)\n",
    "js_str = json.dumps(dict)"
   ]
  },
  {
   "cell_type": "code",
   "execution_count": 63,
   "metadata": {},
   "outputs": [],
   "source": [
    "path = \"path2.jpg\"\n",
    "id = 2\n",
    "mask_lists = mask_lists\n",
    "\n",
    "inst2 = {\n",
    "    \"path\": path,\n",
    "    \"id\": id,\n",
    "    \"mask\": mask_lists\n",
    "}\n",
    "\n",
    "dict[2] = inst2\n",
    "\n",
    "with open(\"datafile.json\", \"w\") as write:\n",
    "    json.dump(dict, write)"
   ]
  },
  {
   "cell_type": "code",
   "execution_count": 71,
   "metadata": {},
   "outputs": [
    {
     "name": "stdout",
     "output_type": "stream",
     "text": [
      "50176\n"
     ]
    },
    {
     "data": {
      "text/plain": [
       "<matplotlib.image.AxesImage at 0x7fc483bb43d0>"
      ]
     },
     "execution_count": 71,
     "metadata": {},
     "output_type": "execute_result"
    },
    {
     "data": {
      "image/png": "[encoded data removed]",
      "text/plain": [
       "<Figure size 432x288 with 1 Axes>"
      ]
     },
     "metadata": {
      "needs_background": "light"
     },
     "output_type": "display_data"
    }
   ],
   "source": [
    "import matplotlib.pyplot as plt\n",
    "\n",
    "annotations1 = json.load(open('test1.json'))\n",
    "ann = list(annotations1.values())\n",
    "\n",
    "# print(ann)\n",
    "\n",
    "inst1 = ann[0]\n",
    "mask_list = inst1['mask']\n",
    "mask = np.array(mask_list)\n",
    "# print(np.matrix(mask))\n",
    "print(mask.size)\n",
    "plt.imshow(mask)\n"
   ]
  },
  {
   "cell_type": "code",
   "execution_count": 77,
   "metadata": {},
   "outputs": [
    {
     "name": "stdout",
     "output_type": "stream",
     "text": [
      "(array([0, 1, 2, 3, 4]), array([2, 2, 2, 2, 2]))\n",
      "[(0, 2), (1, 2), (2, 2), (3, 2), (4, 2)]\n",
      "(1, 2)\n"
     ]
    }
   ],
   "source": [
    "mask = np.zeros((5,5), int)\n",
    "\n",
    "mask[0][2] = 6\n",
    "mask[1][2] = 6\n",
    "mask[2][2] = 6\n",
    "mask[3][2] = 6\n",
    "mask[4][2] = 6\n",
    "\n",
    "result = np.where(mask == 6)\n",
    "print(result)\n",
    "# print(mask)\n",
    "c_list = list(zip(result[0], result[1]))\n",
    "\n",
    "print(c_list)\n",
    "print(c_list[1])"
   ]
  },
  {
   "cell_type": "code",
   "execution_count": 79,
   "metadata": {},
   "outputs": [
    {
     "data": {
      "text/plain": [
       "<matplotlib.image.AxesImage at 0x7fc483aa5f70>"
      ]
     },
     "execution_count": 79,
     "metadata": {},
     "output_type": "execute_result"
    },
    {
     "data": {
      "image/png": "[encoded data removed]",
      "text/plain": [
       "<Figure size 432x288 with 1 Axes>"
      ]
     },
     "metadata": {
      "needs_background": "light"
     },
     "output_type": "display_data"
    }
   ],
   "source": [
    "import matplotlib.pyplot as plt\n",
    "\n",
    "annotations1 = json.load(open('newMask.json'))\n",
    "ann = list(annotations1.values())\n",
    "\n",
    "# print(ann)\n",
    "\n",
    "inst = ann[0]\n",
    "\n",
    "mask = np.zeros(shape=(inst['height'],inst['width']))\n",
    "#print event.x, event.y\n",
    "mask[inst['mask_y'],inst['mask_x']]=1\n",
    "\n",
    "plt.imshow(mask)"
   ]
  }
 ],
 "metadata": {
  "interpreter": {
   "hash": "4969c00f02e81e5be7fcf9362dbc0782155a4d185aeee375d941c7a56923f96c"
  },
  "kernelspec": {
   "display_name": "Python 3.7.12 64-bit ('3.7.12')",
   "language": "python",
   "name": "python3"
  },
  "language_info": {
   "codemirror_mode": {
    "name": "ipython",
    "version": 3
   },
   "file_extension": ".py",
   "mimetype": "text/x-python",
   "name": "python",
   "nbconvert_exporter": "python",
   "pygments_lexer": "ipython3",
   "version": "3.9.7"
  },
  "orig_nbformat": 4
 },
 "nbformat": 4,
 "nbformat_minor": 2
}
