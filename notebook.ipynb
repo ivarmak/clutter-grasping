{
 "cells": [
  {
   "cell_type": "code",
   "execution_count": null,
   "metadata": {},
   "outputs": [],
   "source": [
    "from grasp_generator import GraspGenerator\n",
    "from environment.utilities import Camera\n",
    "from environment.env import Environment\n",
    "from utils import YcbObjects, PackPileData, IsolatedObjData, summarize\n",
    "import numpy as np\n",
    "import pybullet as p\n",
    "import argparse\n",
    "import os\n",
    "import sys\n",
    "import cv2\n",
    "import math\n",
    "import matplotlib.pyplot as plt\n",
    "import time\n",
    "import skimage.io\n",
    "\n",
    "from mrcnn import utils\n",
    "import mrcnn.model as modellib\n",
    "from mrcnn import visualize\n",
    "from mrcnn.coco import coco\n",
    "\n",
    "# Root directory of the project\n",
    "ROOT_DIR = os.path.abspath('/home/ivar/Documents/Thesis/clutterbot/')"
   ]
  },
  {
   "cell_type": "code",
   "execution_count": null,
   "metadata": {},
   "outputs": [],
   "source": [
    "def make_mask(vis):\n",
    "    CAM_Z = 1.9\n",
    "    IMG_SIZE = 224\n",
    "\n",
    "    objects = YcbObjects('objects/ycb_objects',\n",
    "                        mod_orn=['ChipsCan', 'MustardBottle', 'TomatoSoupCan'],\n",
    "                        mod_stiffness=['Strawberry'])\n",
    "    \n",
    "    cracker_path = 'objects/ycb_objects/YcbCrackerBox/model.urdf'\n",
    "    hammer_path = 'objects/ycb_objects/YcbHammer/model.urdf'\n",
    "    banana_path = 'objects/ycb_objects/YcbBanana/model.urdf'\n",
    "\n",
    "    ## camera settings: cam_pos, cam_target, near, far, size, fov\n",
    "    center_x, center_y, center_z = 0.05, -0.52, CAM_Z\n",
    "    camera = Camera((center_x, center_y, center_z), (center_x, center_y, 0.785), 0.2, 2.0, (IMG_SIZE, IMG_SIZE), 40)\n",
    "    env = Environment(camera, vis=vis, finger_length=0.06)\n",
    "\n",
    "    env.reset_robot()          \n",
    "    env.remove_all_obj()                        \n",
    "    \n",
    "    env.load_isolated_obj(banana_path)\n",
    "\n",
    "    # number_of_objects = 5\n",
    "    # objects.shuffle_objects()\n",
    "    # info = objects.get_n_first_obj_info(number_of_objects)\n",
    "    # env.create_pile(info)\n",
    "\n",
    "    # segmentation mask of the image where pixels each contain unique integers with object IDs\n",
    "    # yields integer values: upper rectangle of 1, lower of 4\n",
    "    # with mask as 6 (in the case of single object!!)\n",
    "    _, _, seg = camera.get_cam_img()\n",
    "\n",
    "    ## convert to numpy and binarize (i.e. filter for 6, since value for single mask)\n",
    "    numpy_mask = (np.array(seg) == 6).astype(int)\n",
    "\n",
    "    ## convert back to matrix\n",
    "    mask = np.asmatrix(numpy_mask)\n",
    "\n",
    "    plt.imshow(mask, interpolation='nearest')\n",
    "    plt.show()\n",
    "    # skimage.io.imshow(np.asmatrix(seg))\n"
   ]
  },
  {
   "cell_type": "code",
   "execution_count": null,
   "metadata": {},
   "outputs": [],
   "source": [
    "def look_at_banana(vis):\n",
    "    CAM_Z = 1.9\n",
    "    IMG_SIZE = 224\n",
    "\n",
    "    def setup_mrcnn():\n",
    "        # Directory to save logs and trained model\n",
    "        MODEL_DIR = os.path.join(ROOT_DIR, 'logs')\n",
    "        # Local path to your trained weights file\n",
    "        COCO_MODEL_PATH = os.path.join(ROOT_DIR, 'mrcnn/weights/mask_rcnn_coco.h5')\n",
    "\n",
    "        class InferenceConfig(coco.CocoConfig):\n",
    "            GPU_COUNT = 1\n",
    "            IMAGES_PER_GPU = 1\n",
    "            \n",
    "        config = InferenceConfig()\n",
    "\n",
    "        class_names = ['BG', 'person', 'bicycle', 'car', 'motorcycle', 'airplane',\n",
    "                    'bus', 'train', 'truck', 'boat', 'traffic light',\n",
    "                    'fire hydrant', 'stop sign', 'parking meter', 'bench', 'bird',\n",
    "                    'cat', 'dog', 'horse', 'sheep', 'cow', 'elephant', 'bear',\n",
    "                    'zebra', 'giraffe', 'backpack', 'umbrella', 'handbag', 'tie',\n",
    "                    'suitcase', 'frisbee', 'skis', 'snowboard', 'sports ball',\n",
    "                    'kite', 'baseball bat', 'baseball glove', 'skateboard',\n",
    "                    'surfboard', 'tennis racket', 'bottle', 'wine glass', 'cup',\n",
    "                    'fork', 'knife', 'spoon', 'bowl', 'banana', 'apple',\n",
    "                    'sandwich', 'orange', 'broccoli', 'carrot', 'hot dog', 'pizza',\n",
    "                    'donut', 'cake', 'chair', 'couch', 'potted plant', 'bed',\n",
    "                    'dining table', 'toilet', 'tv', 'laptop', 'mouse', 'remote',\n",
    "                    'keyboard', 'cell phone', 'microwave', 'oven', 'toaster',\n",
    "                    'sink', 'refrigerator', 'book', 'clock', 'vase', 'scissors',\n",
    "                    'teddy bear', 'hair drier', 'toothbrush']\n",
    "\n",
    "        # Create model object in inference mode.\n",
    "        model = modellib.MaskRCNN(mode=\"inference\", model_dir=MODEL_DIR, config=config)\n",
    "\n",
    "        # Load weights trained on the COCO dataset \n",
    "        model.load_weights(COCO_MODEL_PATH, by_name=True)\n",
    "\n",
    "        return model, class_names\n",
    "\n",
    "    model, class_names = setup_mrcnn()\n",
    "\n",
    "    def evaluate():\n",
    "        start = time.time()\n",
    "\n",
    "        results = model.detect([rgb], verbose=1)\n",
    "        r = results[0]\n",
    "        box, mask, classID, score = r['rois'], r['masks'], r['class_ids'], r['scores']                      \n",
    "\n",
    "        end = time.time()\n",
    "        print('MRCNN EXECUTION TIME: ', end - start)\n",
    "\n",
    "        return box, mask, classID, score\n",
    "\n",
    "    objects = YcbObjects('objects/ycb_objects',\n",
    "                        mod_orn=['ChipsCan', 'MustardBottle', 'TomatoSoupCan'],\n",
    "                        mod_stiffness=['Strawberry'])\n",
    "    \n",
    "    banana_path = 'objects/ycb_objects/YcbBanana/model.urdf'\n",
    "\n",
    "    ## camera settings: cam_pos, cam_target, near, far, size, fov\n",
    "    center_x, center_y, center_z = 0.05, -0.52, CAM_Z\n",
    "    # camera = Camera((center_x, center_y, center_z), (center_x, center_y, 0.785), 0.2, 2.0, (self.IMG_SIZE, self.IMG_SIZE), 40)\n",
    "    \n",
    "    MRCNN_IMG_SIZE = 1024\n",
    "    camera = Camera((center_x, center_y, center_z), (center_x, center_y, 0.785), 0.2, 2.0, (MRCNN_IMG_SIZE, MRCNN_IMG_SIZE), 40)\n",
    "    env = Environment(camera, vis=vis, finger_length=0.06)\n",
    "\n",
    "    env.reset_robot()          \n",
    "    env.remove_all_obj()                        \n",
    "    \n",
    "    # load banana into environment\n",
    "    env.load_isolated_obj(banana_path)\n",
    "\n",
    "    number_of_objects = 5\n",
    "    # objects.shuffle_objects()\n",
    "    # info = objects.get_n_first_obj_info(number_of_objects)\n",
    "    # env.create_pile(info)\n",
    "\n",
    "    rgb, _, _ = camera.get_cam_img()\n",
    "\n",
    "    \n",
    "    # for i in range(7):\n",
    "    #     start = time.time()\n",
    "    #     # path = 'trained_models/Mask_RCNN/images/' + str(i) + '.jpg'\n",
    "    #     path = 'images/' + str(i) + '.jpg'\n",
    "    #     print(path)\n",
    "    #     rgb = skimage.io.imread(path)\n",
    "    #     results = model.detect([rgb], verbose=1)\n",
    "    #     r = results[0]\n",
    "    #     box, mask, classID, score = r['rois'], r['masks'], r['class_ids'], r['scores']\n",
    "\n",
    "    #     end = time.time()\n",
    "    #     print('MRCNN EXECUTION TIME: ', end - start)\n",
    "\n",
    "    #     visualize.display_instances(rgb, box, mask, classID, class_names, score)\n",
    "\n",
    "    bananaFound = False\n",
    "    nfNumber = 1\n",
    "\n",
    "    box, mask, classID, score = evaluate()\n",
    "\n",
    "    while(not bananaFound):\n",
    "        if (47 in classID):\n",
    "            print('BANANA FOUND')\n",
    "            bananaFound = True\n",
    "\n",
    "            result = np.where(classID == 47)\n",
    "            index = result[0][0]\n",
    "            print('index: ', index)\n",
    "            # terminaloutput>> index:  (array([3]),)\n",
    "            # pak eerste output: result = np.where(classID == 47) \\ index = result[0][0]\n",
    "            # https://thispointer.com/find-the-index-of-a-value-in-numpy-array/\n",
    "        else:\n",
    "            print('NOT FOUND, starting again')\n",
    "\n",
    "            # visualize.display_instances(rgb, box, mask, classID, class_names, score, title='notfound ' + str(nfNumber))\n",
    "            \n",
    "            nfNumber += 1\n",
    "\n",
    "            env.reset_robot()          \n",
    "            env.remove_all_obj()\n",
    "            objects.shuffle_objects()\n",
    "            info = objects.get_n_first_obj_info(number_of_objects)\n",
    "            env.create_pile(info)\n",
    "\n",
    "            rgb, _, _ = camera.get_cam_img()\n",
    "\n",
    "            box, mask, classID, score = evaluate()\n",
    "    \n",
    "    print('NOT FOUND #', nfNumber)\n",
    "    visualize.display_instances(rgb, box, mask, classID, class_names, score)\n"
   ]
  },
  {
   "cell_type": "code",
   "execution_count": null,
   "metadata": {},
   "outputs": [],
   "source": [
    "def make_data():\n",
    "    ## Call json.dumps(obj) with obj as the list to serialize the list to a JSON formatted string.\n",
    "    \n",
    "    # print(arr)\n",
    "    \n",
    "    # # Output\n",
    "    # # [[1 2]\n",
    "    # # [3 4]]\n",
    "\n",
    "    # lists = arr.tolist()\n",
    "    # json_str = json.dumps(lists)\n",
    "    # print(json_str)\n",
    "\n",
    "    # # Output\n",
    "    # # [[1, 2], [3, 4]]\n",
    "    pass\n"
   ]
  },
  {
   "cell_type": "code",
   "execution_count": 1,
   "metadata": {},
   "outputs": [],
   "source": [
    "import json\n",
    "\n",
    "dataset_dir = 'data/trial'\n",
    "\n",
    "json_file = 'trial.json'\n",
    "annotations1 = json.load(open(os.path.join(dataset_dir, json_file)))\n"
   ]
  },
  {
   "cell_type": "code",
   "execution_count": 10,
   "metadata": {},
   "outputs": [
    {
     "name": "stdout",
     "output_type": "stream",
     "text": [
      "[{'path': 'sample1.jpg', 'width': 224, 'height': 224}, {'path': 'sample2.jpg', 'width': 224, 'height': 224}]\n"
     ]
    }
   ],
   "source": [
    "annotations = list(annotations1.values())\n",
    "print(annotations)"
   ]
  },
  {
   "cell_type": "code",
   "execution_count": 28,
   "metadata": {},
   "outputs": [],
   "source": [
    "import numpy as np\n",
    "\n",
    "zeros = np.zeros((5,5), int)\n",
    "\n",
    "mask = zeros\n",
    "mask[1][2] = 1\n",
    "mask[2][2] = 1\n",
    "mask[3][2] = 1\n"
   ]
  },
  {
   "cell_type": "code",
   "execution_count": 35,
   "metadata": {},
   "outputs": [
    {
     "name": "stdout",
     "output_type": "stream",
     "text": [
      "[[0 0 0 0 0]\n",
      " [0 0 1 0 0]\n",
      " [0 0 1 0 0]\n",
      " [0 0 1 0 0]\n",
      " [0 0 0 0 0]]\n",
      "[[0, 0, 0, 0, 0], [0, 0, 1, 0, 0], [0, 0, 1, 0, 0], [0, 0, 1, 0, 0], [0, 0, 0, 0, 0]]\n"
     ]
    }
   ],
   "source": [
    "print(mask)\n",
    "mask_lists = mask.tolist()\n",
    "js_str = json.dumps(mask_lists)\n",
    "\n",
    "\n",
    "print(js_str)"
   ]
  },
  {
   "cell_type": "code",
   "execution_count": 62,
   "metadata": {},
   "outputs": [
    {
     "name": "stdout",
     "output_type": "stream",
     "text": [
      "{0: {'path': 'path0.jpg', 'id': 0, 'mask': [[0, 0, 0, 0, 0], [0, 0, 1, 0, 0], [0, 0, 1, 0, 0], [0, 0, 1, 0, 0], [0, 0, 0, 0, 0]]}, 1: {'path': 'path1.jpg', 'id': 1, 'mask': [[0, 0, 0, 0, 0], [0, 0, 1, 0, 0], [0, 0, 1, 0, 0], [0, 0, 1, 0, 0], [0, 0, 0, 0, 0]]}}\n"
     ]
    }
   ],
   "source": [
    "dict = {}\n",
    "\n",
    "for it in range(2):\n",
    "    path = \"path\" + str(it) + \".jpg\"\n",
    "    id = it\n",
    "    mask_lists = mask_lists\n",
    "\n",
    "    inst1 = {\n",
    "        \"path\": path,\n",
    "        \"id\": id,\n",
    "        \"mask\": mask_lists\n",
    "    }\n",
    "\n",
    "    dict[it] = inst1\n",
    "\n",
    "print(dict)\n",
    "js_str = json.dumps(dict)"
   ]
  },
  {
   "cell_type": "code",
   "execution_count": 63,
   "metadata": {},
   "outputs": [],
   "source": [
    "path = \"path2.jpg\"\n",
    "id = 2\n",
    "mask_lists = mask_lists\n",
    "\n",
    "inst2 = {\n",
    "    \"path\": path,\n",
    "    \"id\": id,\n",
    "    \"mask\": mask_lists\n",
    "}\n",
    "\n",
    "dict[2] = inst2\n",
    "\n",
    "with open(\"datafile.json\", \"w\") as write:\n",
    "    json.dump(dict, write)"
   ]
  },
  {
   "cell_type": "code",
   "execution_count": 10,
   "metadata": {},
   "outputs": [
    {
     "name": "stdout",
     "output_type": "stream",
     "text": [
      "50176\n",
      "[[0 0 0 ... 0 0 0]\n",
      " [0 0 0 ... 0 0 0]\n",
      " [0 0 0 ... 0 0 0]\n",
      " ...\n",
      " [0 0 0 ... 0 0 0]\n",
      " [0 0 0 ... 0 0 0]\n",
      " [0 0 0 ... 0 0 0]]\n"
     ]
    },
    {
     "name": "stderr",
     "output_type": "stream",
     "text": [
      "/tmp/ipykernel_9857/3156545820.py:17: DeprecationWarning: `np.bool` is a deprecated alias for the builtin `bool`. To silence this warning, use `bool` by itself. Doing this will not modify any behavior and is safe. If you specifically wanted the numpy scalar type, use `np.bool_` here.\n",
      "Deprecated in NumPy 1.20; for more details and guidance: https://numpy.org/devdocs/release/1.20.0-notes.html#deprecations\n",
      "  mask2 = mask.astype(np.bool)\n",
      "/home/ivar/anaconda3/lib/python3.9/site-packages/skimage/io/_plugins/matplotlib_plugin.py:150: UserWarning: Low image data range; displaying image with stretched contrast.\n",
      "  lo, hi, cmap = _get_display_range(image)\n"
     ]
    },
    {
     "data": {
      "image/png": "[encoded data removed]",
      "text/plain": [
       "<Figure size 432x288 with 2 Axes>"
      ]
     },
     "metadata": {
      "needs_background": "light"
     },
     "output_type": "display_data"
    }
   ],
   "source": [
    "import matplotlib.pyplot as plt\n",
    "import numpy as np\n",
    "import json\n",
    "import skimage.io\n",
    "\n",
    "annotations1 = json.load(open('test1.json'))\n",
    "ann = list(annotations1.values())\n",
    "\n",
    "# print(ann)\n",
    "\n",
    "inst1 = ann[0]\n",
    "mask_list = inst1['mask']\n",
    "mask = np.array(mask_list)\n",
    "# print(np.matrix(mask))\n",
    "print(mask.size)\n",
    "\n",
    "mask2 = mask.astype(np.bool)\n",
    "\n",
    "# plt.imshow(mask)\n",
    "skimage.io.imshow(mask)\n",
    "\n",
    "print(mask)\n"
   ]
  },
  {
   "cell_type": "code",
   "execution_count": 77,
   "metadata": {},
   "outputs": [
    {
     "name": "stdout",
     "output_type": "stream",
     "text": [
      "(array([0, 1, 2, 3, 4]), array([2, 2, 2, 2, 2]))\n",
      "[(0, 2), (1, 2), (2, 2), (3, 2), (4, 2)]\n",
      "(1, 2)\n"
     ]
    }
   ],
   "source": [
    "mask = np.zeros((5,5), int)\n",
    "\n",
    "mask[0][2] = 6\n",
    "mask[1][2] = 6\n",
    "mask[2][2] = 6\n",
    "mask[3][2] = 6\n",
    "mask[4][2] = 6\n",
    "\n",
    "result = np.where(mask == 6)\n",
    "print(result)\n",
    "# print(mask)\n",
    "c_list = list(zip(result[0], result[1]))\n",
    "\n",
    "print(c_list)\n",
    "print(c_list[1])"
   ]
  },
  {
   "cell_type": "code",
   "execution_count": null,
   "metadata": {},
   "outputs": [],
   "source": [
    "import matplotlib.pyplot as plt\n",
    "\n",
    "annotations1 = json.load(open('newMask.json'))\n",
    "ann = list(annotations1.values())\n",
    "\n",
    "# print(ann)\n",
    "\n",
    "inst = ann[0]\n",
    "\n",
    "mask = np.zeros(shape=(inst['height'],inst['width']))\n",
    "#print event.x, event.y\n",
    "mask[inst['mask_y'],inst['mask_x']]=1\n",
    "\n",
    "plt.imshow(mask)"
   ]
  },
  {
   "cell_type": "code",
   "execution_count": 10,
   "metadata": {},
   "outputs": [
    {
     "data": {
      "text/plain": [
       "False"
      ]
     },
     "execution_count": 10,
     "metadata": {},
     "output_type": "execute_result"
    }
   ],
   "source": [
    "import random\n",
    "\n",
    "bool(random.getrandbits(1))"
   ]
  },
  {
   "cell_type": "code",
   "execution_count": null,
   "metadata": {},
   "outputs": [],
   "source": [
    "import imgaug.imgaug as ia\n",
    "import skimage.io\n",
    "\n",
    "img = skimage.io.imread('data/train/GelatinBox12.jpg')\n",
    "skimage.io.imshow(img)"
   ]
  },
  {
   "cell_type": "code",
   "execution_count": 11,
   "metadata": {},
   "outputs": [
    {
     "name": "stdout",
     "output_type": "stream",
     "text": [
      "81\n"
     ]
    }
   ],
   "source": [
    "class_names = ['BG', 'person', 'bicycle', 'car', 'motorcycle', 'airplane',\n",
    "                    'bus', 'train', 'truck', 'boat', 'traffic light',\n",
    "                    'fire hydrant', 'stop sign', 'parking meter', 'bench', 'bird',\n",
    "                    'cat', 'dog', 'horse', 'sheep', 'cow', 'elephant', 'bear',\n",
    "                    'zebra', 'giraffe', 'backpack', 'umbrella', 'handbag', 'tie',\n",
    "                    'suitcase', 'frisbee', 'skis', 'snowboard', 'sports ball',\n",
    "                    'kite', 'baseball bat', 'baseball glove', 'skateboard',\n",
    "                    'surfboard', 'tennis racket', 'bottle', 'wine glass', 'cup',\n",
    "                    'fork', 'knife', 'spoon', 'bowl', 'banana', 'apple',\n",
    "                    'sandwich', 'orange', 'broccoli', 'carrot', 'hot dog', 'pizza',\n",
    "                    'donut', 'cake', 'chair', 'couch', 'potted plant', 'bed',\n",
    "                    'dining table', 'toilet', 'tv', 'laptop', 'mouse', 'remote',\n",
    "                    'keyboard', 'cell phone', 'microwave', 'oven', 'toaster',\n",
    "                    'sink', 'refrigerator', 'book', 'clock', 'vase', 'scissors',\n",
    "                    'teddy bear', 'hair drier', 'toothbrush']\n",
    "print(len(class_names))"
   ]
  },
  {
   "cell_type": "code",
   "execution_count": 20,
   "metadata": {},
   "outputs": [
    {
     "ename": "TypeError",
     "evalue": "object of type 'int' has no len()",
     "output_type": "error",
     "traceback": [
      "\u001b[0;31m---------------------------------------------------------------------------\u001b[0m",
      "\u001b[0;31mTypeError\u001b[0m                                 Traceback (most recent call last)",
      "\u001b[0;32m/tmp/ipykernel_186703/3189800746.py\u001b[0m in \u001b[0;36m<module>\u001b[0;34m\u001b[0m\n\u001b[1;32m     13\u001b[0m \u001b[0;34m\u001b[0m\u001b[0m\n\u001b[1;32m     14\u001b[0m \u001b[0mplt\u001b[0m\u001b[0;34m.\u001b[0m\u001b[0mxlim\u001b[0m\u001b[0;34m(\u001b[0m\u001b[0;34m[\u001b[0m\u001b[0;36m0\u001b[0m\u001b[0;34m,\u001b[0m \u001b[0;36m20\u001b[0m\u001b[0;34m]\u001b[0m\u001b[0;34m)\u001b[0m\u001b[0;34m\u001b[0m\u001b[0;34m\u001b[0m\u001b[0m\n\u001b[0;32m---> 15\u001b[0;31m \u001b[0mplt\u001b[0m\u001b[0;34m.\u001b[0m\u001b[0mxticks\u001b[0m\u001b[0;34m(\u001b[0m\u001b[0;36m5\u001b[0m\u001b[0;34m)\u001b[0m\u001b[0;34m\u001b[0m\u001b[0;34m\u001b[0m\u001b[0m\n\u001b[0m\u001b[1;32m     16\u001b[0m \u001b[0;31m# plt.ylim([0, 1.0])\u001b[0m\u001b[0;34m\u001b[0m\u001b[0;34m\u001b[0m\u001b[0m\n\u001b[1;32m     17\u001b[0m \u001b[0;34m\u001b[0m\u001b[0m\n",
      "\u001b[0;32m~/anaconda3/lib/python3.9/site-packages/matplotlib/pyplot.py\u001b[0m in \u001b[0;36mxticks\u001b[0;34m(ticks, labels, **kwargs)\u001b[0m\n\u001b[1;32m   1807\u001b[0m                             \"without setting 'ticks'\")\n\u001b[1;32m   1808\u001b[0m     \u001b[0;32melse\u001b[0m\u001b[0;34m:\u001b[0m\u001b[0;34m\u001b[0m\u001b[0;34m\u001b[0m\u001b[0m\n\u001b[0;32m-> 1809\u001b[0;31m         \u001b[0mlocs\u001b[0m \u001b[0;34m=\u001b[0m \u001b[0max\u001b[0m\u001b[0;34m.\u001b[0m\u001b[0mset_xticks\u001b[0m\u001b[0;34m(\u001b[0m\u001b[0mticks\u001b[0m\u001b[0;34m)\u001b[0m\u001b[0;34m\u001b[0m\u001b[0;34m\u001b[0m\u001b[0m\n\u001b[0m\u001b[1;32m   1810\u001b[0m \u001b[0;34m\u001b[0m\u001b[0m\n\u001b[1;32m   1811\u001b[0m     \u001b[0;32mif\u001b[0m \u001b[0mlabels\u001b[0m \u001b[0;32mis\u001b[0m \u001b[0;32mNone\u001b[0m\u001b[0;34m:\u001b[0m\u001b[0;34m\u001b[0m\u001b[0;34m\u001b[0m\u001b[0m\n",
      "\u001b[0;32m~/anaconda3/lib/python3.9/site-packages/matplotlib/axes/_base.py\u001b[0m in \u001b[0;36mwrapper\u001b[0;34m(self, *args, **kwargs)\u001b[0m\n\u001b[1;32m     71\u001b[0m \u001b[0;34m\u001b[0m\u001b[0m\n\u001b[1;32m     72\u001b[0m         \u001b[0;32mdef\u001b[0m \u001b[0mwrapper\u001b[0m\u001b[0;34m(\u001b[0m\u001b[0mself\u001b[0m\u001b[0;34m,\u001b[0m \u001b[0;34m*\u001b[0m\u001b[0margs\u001b[0m\u001b[0;34m,\u001b[0m \u001b[0;34m**\u001b[0m\u001b[0mkwargs\u001b[0m\u001b[0;34m)\u001b[0m\u001b[0;34m:\u001b[0m\u001b[0;34m\u001b[0m\u001b[0;34m\u001b[0m\u001b[0m\n\u001b[0;32m---> 73\u001b[0;31m             \u001b[0;32mreturn\u001b[0m \u001b[0mget_method\u001b[0m\u001b[0;34m(\u001b[0m\u001b[0mself\u001b[0m\u001b[0;34m)\u001b[0m\u001b[0;34m(\u001b[0m\u001b[0;34m*\u001b[0m\u001b[0margs\u001b[0m\u001b[0;34m,\u001b[0m \u001b[0;34m**\u001b[0m\u001b[0mkwargs\u001b[0m\u001b[0;34m)\u001b[0m\u001b[0;34m\u001b[0m\u001b[0;34m\u001b[0m\u001b[0m\n\u001b[0m\u001b[1;32m     74\u001b[0m \u001b[0;34m\u001b[0m\u001b[0m\n\u001b[1;32m     75\u001b[0m         \u001b[0mwrapper\u001b[0m\u001b[0;34m.\u001b[0m\u001b[0m__module__\u001b[0m \u001b[0;34m=\u001b[0m \u001b[0mowner\u001b[0m\u001b[0;34m.\u001b[0m\u001b[0m__module__\u001b[0m\u001b[0;34m\u001b[0m\u001b[0;34m\u001b[0m\u001b[0m\n",
      "\u001b[0;32m~/anaconda3/lib/python3.9/site-packages/matplotlib/axis.py\u001b[0m in \u001b[0;36mset_ticks\u001b[0;34m(self, ticks, minor)\u001b[0m\n\u001b[1;32m   1836\u001b[0m             \u001b[0mshared\u001b[0m \u001b[0;34m=\u001b[0m \u001b[0;34m[\u001b[0m\u001b[0mself\u001b[0m\u001b[0;34m]\u001b[0m\u001b[0;34m\u001b[0m\u001b[0;34m\u001b[0m\u001b[0m\n\u001b[1;32m   1837\u001b[0m         \u001b[0;32mfor\u001b[0m \u001b[0maxis\u001b[0m \u001b[0;32min\u001b[0m \u001b[0mshared\u001b[0m\u001b[0;34m:\u001b[0m\u001b[0;34m\u001b[0m\u001b[0;34m\u001b[0m\u001b[0m\n\u001b[0;32m-> 1838\u001b[0;31m             \u001b[0;32mif\u001b[0m \u001b[0mlen\u001b[0m\u001b[0;34m(\u001b[0m\u001b[0mticks\u001b[0m\u001b[0;34m)\u001b[0m \u001b[0;34m>\u001b[0m \u001b[0;36m1\u001b[0m\u001b[0;34m:\u001b[0m\u001b[0;34m\u001b[0m\u001b[0;34m\u001b[0m\u001b[0m\n\u001b[0m\u001b[1;32m   1839\u001b[0m                 \u001b[0mxleft\u001b[0m\u001b[0;34m,\u001b[0m \u001b[0mxright\u001b[0m \u001b[0;34m=\u001b[0m \u001b[0maxis\u001b[0m\u001b[0;34m.\u001b[0m\u001b[0mget_view_interval\u001b[0m\u001b[0;34m(\u001b[0m\u001b[0;34m)\u001b[0m\u001b[0;34m\u001b[0m\u001b[0;34m\u001b[0m\u001b[0m\n\u001b[1;32m   1840\u001b[0m                 \u001b[0;32mif\u001b[0m \u001b[0mxright\u001b[0m \u001b[0;34m>\u001b[0m \u001b[0mxleft\u001b[0m\u001b[0;34m:\u001b[0m\u001b[0;34m\u001b[0m\u001b[0;34m\u001b[0m\u001b[0m\n",
      "\u001b[0;31mTypeError\u001b[0m: object of type 'int' has no len()"
     ]
    },
    {
     "data": {
      "image/png": "[encoded data removed]",
      "text/plain": [
       "<Figure size 432x288 with 1 Axes>"
      ]
     },
     "metadata": {
      "needs_background": "light"
     },
     "output_type": "display_data"
    }
   ],
   "source": [
    "import matplotlib.pyplot as plt\n",
    "\n",
    "loss = [1.1854, 0.6303, 0.5300, 0.4471, 0.3668, 0.3818, 0.3519, 0.3243, 0.3217, 0.2790,  0.2806, 0.2720, 0.2712, 0.2580, 0.2468, 0.2446, 0.2336, 0.2119, 0.2258, 0.2184, 0.2039, 0.2062, 0.2179, 0.1969, 0.1861, 0.1846, 0.1862, 0.1799, 0.2046, 0.1752, 0.1701, 0.1734, 0.1577, 0.1603, 0.1637, 0.1622, 0.1674, 0.1594, 0.1491, 0.1512]\n",
    "\n",
    "val = [0.7095, 0.6066, 0.6826, 0.4511, 0.5400, 0.3894, 0.2554, 0.2673, 0.2726, 0.3397, 0.3223, 0.2163, 0.2183, 0.1952, 0.2046, 0.2100, 0.2505, 0.2568, 0.2263, 0.3240, 0.2153, 0.2642, 0.1634, 0.1830, 0.1943, 0.2243, 0.1232, 0.1529, 0.1783, 0.1943, 0.1483, 0.1383, 0.1829, 0.1319, 0.1848, 0.1452, 0.1530, 0.1272, 0.1695, 0.1549]\n",
    "\n",
    "loss = [0.7527, 0.4090, 0.3487, 0.3253, 0.3063, 0.2642, 0.2786, 0.2387, 0.2781, 0.2389, 0.2216, 0.2059, 0.2043, 0.1981, 0.1896, 0.1848, 0.1700, 0.1748, 0.1782, 0.1669]\n",
    "\n",
    "val = [0.4954, 0.3858, 0.3179, 0.2969, 0.3067, 0.3904, 0.3154, 0.2596, 0.2825, 0.2655, 0.1602, 0.1971, 0.2303, 0.2390, 0.1835, 0.1770, 0.1619, 0.1619, 0.2032, 0.1933]\n",
    "\n",
    "plt.plot(loss, '-b', label='loss')\n",
    "plt.plot(val, '-r', label='val')\n",
    "\n",
    "plt.xlim([0, 20])\n",
    "# plt.ylim([0, 1.0])\n",
    "\n",
    "plt.xlabel(\"epoch\")\n",
    "plt.legend(loc='upper right')\n",
    "plt.title('Training loss vs validation loss')\n",
    "\n",
    "# plt.plot(loss)\n",
    "# plt.show()\n",
    "\n",
    "# plt.rcParams['axes.facecolor']='white'\n",
    "plt.rcParams['savefig.facecolor']='white'\n",
    "plt.savefig('my_plot.png')\n",
    "# plt.savefig('whatever.png', facecolor=plt.get_facecolor(), edgecolor='none')\n"
   ]
  },
  {
   "cell_type": "code",
   "execution_count": null,
   "metadata": {},
   "outputs": [],
   "source": [
    "from sklearn.metrics import confusion_matrix, plot_confusion_matrix\n",
    "\n",
    "def plot_conf_matrix(predictions, y_test, ss):\n",
    "    matrix = confusion_matrix(labelizer.inverse_transform(y_test.argmax(axis=1)), \n",
    "                          labelizer.inverse_transform(predictions.argmax(axis=1)), \n",
    "                         labels=labelizer.classes_\n",
    "                         )\n",
    "\n",
    "    matrix = pd.DataFrame(matrix, index=labelizer.classes_, columns=labelizer.classes_)\n",
    "\n",
    "    fig, ax = plt.subplots(figsize=(8, 8))\n",
    "\n",
    "    sns.set(font_scale=2.5)\n",
    "    sns.heatmap(matrix, annot=True, fmt='.2f', linewidth=5, cmap=\"Greens\")\n",
    "    ax.set_title('Confusion Matrix for (mis)classifications \\n with sample size: '+str(ss)+ ' seconds')\n",
    "    ax.set_xlabel('Predictions')\n",
    "    ax.set_ylabel('True values');\n",
    "\n",
    "    fig.savefig('conf_matrix_size_'+str(ss)+'.png', bbox_inches='tight') #\n",
    "\n",
    "conf_matrix_data += [(predictions, y_test, i)]\n",
    "\n",
    "for j in conf_matrix_data:\n",
    "    plot_conf_matrix(j[0], j[1], j[2])"
   ]
  }
 ],
 "metadata": {
  "interpreter": {
   "hash": "4969c00f02e81e5be7fcf9362dbc0782155a4d185aeee375d941c7a56923f96c"
  },
  "kernelspec": {
   "display_name": "Python 3.7.12 64-bit ('3.7.12')",
   "language": "python",
   "name": "python3"
  },
  "language_info": {
   "codemirror_mode": {
    "name": "ipython",
    "version": 3
   },
   "file_extension": ".py",
   "mimetype": "text/x-python",
   "name": "python",
   "nbconvert_exporter": "python",
   "pygments_lexer": "ipython3",
   "version": "3.9.7"
  },
  "orig_nbformat": 4
 },
 "nbformat": 4,
 "nbformat_minor": 2
}
